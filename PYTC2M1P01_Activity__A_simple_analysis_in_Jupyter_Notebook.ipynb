{
  "cells": [
    {
      "cell_type": "markdown",
      "metadata": {
        "id": "view-in-github",
        "colab_type": "text"
      },
      "source": [
        "<a href=\"https://colab.research.google.com/github/jcgaibor/machinelearning-az/blob/master/PYTC2M1P01_Activity__A_simple_analysis_in_Jupyter_Notebook.ipynb\" target=\"_parent\"><img src=\"https://colab.research.google.com/assets/colab-badge.svg\" alt=\"Open In Colab\"/></a>"
      ]
    },
    {
      "cell_type": "markdown",
      "id": "3b0118a0-4229-4a52-a507-cc0fe6acd3ce",
      "metadata": {
        "id": "3b0118a0-4229-4a52-a507-cc0fe6acd3ce"
      },
      "source": [
        "## Scenario: Jupiter's Lab: Exploring Planetary Data with Python and Jupyter\n",
        "\n",
        "You've just joined a team of astronomers exploring the wonders of our solar system. Eager to contribute, you've been tasked with analyzing data about the planets, their sizes, and the number of moons they possess. However, there's a catch: the data is scattered across different files and formats, and you've never used Jupyter Notebooks before! The astronomers, excited about the potential of this interactive tool, have asked you to learn how to use it while tackling this data analysis task.\n",
        "\n",
        "Your mission now involves not only loading, cleaning, and analyzing the data using your Python skills but also mastering the Jupyter Notebook environment to create visualizations and effectively communicate your findings to the team."
      ]
    },
    {
      "cell_type": "markdown",
      "id": "e2d9d46f",
      "metadata": {
        "id": "e2d9d46f"
      },
      "source": [
        "# Welcome to Jupyter Notebooks!\n",
        "\n",
        "In this activity, you'll take your first steps into the world of Jupyter Notebooks. Think of a Jupyter Notebook as an interactive playground where you can combine code, text, and visualizations all in one place. It's a powerful tool for exploring data, experimenting with ideas, and sharing your findings with others.\n",
        "\n",
        "Get to know the key elements of the Jupyter Notebook interface:\n",
        "\n",
        "* **Cells:** The building blocks of a notebook. You'll see two main types:\n",
        "    * **Code cells:** Where you write and execute Python code.\n",
        "    * **Markdown cells:** Where you add formatted text, images, and even mathematical equations to explain your code and findings.\n",
        "* **Kernel:** The computational engine that runs your code behind the scenes. Think of it as the brain of your notebook.\n",
        "* **Toolbar:** Located at the top, it provides buttons for common actions like saving your notebook, adding new cells, running code, and more.\n",
        "\n",
        "Don't worry if it feels a bit overwhelming at first. We'll guide you through each part step-by-step, and you'll soon be navigating Jupyter Notebooks like a pro!"
      ]
    },
    {
      "cell_type": "markdown",
      "id": "3bccbe8e",
      "metadata": {
        "id": "3bccbe8e"
      },
      "source": [
        "# Your First Code Cell\n",
        "\n",
        "Now, let's get your hands dirty and execute some code!\n",
        "\n",
        "Below, you'll see a **code cell**. This is where the magic happens – you'll write Python code and see the results instantly.\n",
        "\n",
        "Go ahead and click inside the code cell below. You'll notice a blinking cursor, indicating that you can start typing.\n",
        "\n",
        "Type \"Hello, World!\" into the print statement."
      ]
    },
    {
      "cell_type": "code",
      "execution_count": 1,
      "id": "a02e6f0b",
      "metadata": {
        "colab": {
          "base_uri": "https://localhost:8080/"
        },
        "id": "a02e6f0b",
        "outputId": "7d1697b9-cefa-4359-abd5-6e63712d8195"
      },
      "outputs": [
        {
          "output_type": "stream",
          "name": "stdout",
          "text": [
            "Hello, World\n"
          ]
        }
      ],
      "source": [
        "# Replace \"insert code here\" with \"Hello, World!\":\n",
        "\n",
        "print(\"Hello, World\")"
      ]
    },
    {
      "cell_type": "markdown",
      "id": "ad554b8f",
      "metadata": {
        "id": "ad554b8f"
      },
      "source": [
        "Great! Now, let's run this code and see what happens. There are two ways to do this:\n",
        "\n",
        "1. **Keyboard shortcut:** Press `Shift + Enter` while your cursor is inside the code cell.\n",
        "2. **Toolbar button:** Click the \"Run\" button (it looks like a play icon) in the toolbar at the top of the notebook\n",
        "\n",
        "Give it a try! You should see the output \"Hello, World!\" printed below the cell.\n"
      ]
    },
    {
      "cell_type": "markdown",
      "id": "a7ffa66c",
      "metadata": {
        "id": "a7ffa66c"
      },
      "source": [
        "Let's break down what just happened:\n",
        "\n",
        "* `print(...)`: This is a Python function that displays whatever you put inside the parentheses on the screen\n",
        "* `\"Hello, World!\"`: This is a string of text – a sequence of characters enclosed in quotation marks.\n",
        "\n",
        "So, the code `print(\"Hello, World!\")` simply tells Python to display the text \"Hello, World!\".\n",
        "\n",
        "You've successfully executed your first code cell in a Jupyter Notebook! This is the fundamental way you'll interact with Python and see the results of your code.\n"
      ]
    },
    {
      "cell_type": "markdown",
      "id": "fbe33b0e",
      "metadata": {
        "id": "fbe33b0e"
      },
      "source": [
        "# Libraries and Packages: Expanding Python's Power\n",
        "\n",
        "Python's true strength lies in its vast ecosystem of libraries and packages. These are collections of pre-written code that provide additional functionality, saving you the effort of reinventing the wheel. Think of them as toolboxes full of specialized tools for various tasks.\n",
        "\n",
        "* **Libraries:** Typically larger and more comprehensive, offering a wide range of functions and capabilities.\n",
        "* **Packages:** Often smaller and more focused, addressing specific needs or domains.\n",
        "\n",
        "In essence, libraries and packages allow you to leverage the work of others, making your Python code more efficient and powerful.\n"
      ]
    },
    {
      "cell_type": "markdown",
      "id": "3c3ae9f0",
      "metadata": {
        "id": "3c3ae9f0"
      },
      "source": [
        "# Importing `numpy`\n",
        "\n",
        "One of the most fundamental libraries in the Python data science world is `numpy`. It provides powerful tools for working with arrays and matrices, which are essential for numerical computations and data analysis.\n",
        "\n",
        "Let's import `numpy` into our notebook.\n",
        "\n",
        "In the cell below, add the following line of code: `import numpy as np`\n"
      ]
    },
    {
      "cell_type": "code",
      "execution_count": 2,
      "id": "f0769c75",
      "metadata": {
        "id": "f0769c75"
      },
      "outputs": [],
      "source": [
        "import numpy as np"
      ]
    },
    {
      "cell_type": "markdown",
      "id": "5172f71d",
      "metadata": {
        "id": "5172f71d"
      },
      "source": [
        "We use the `import ... as ...` syntax to give `numpy` a shorter alias (`np`). This makes it easier to reference its functions later in our code.\n",
        "\n",
        "Now, `numpy` is ready to be used! You'll explore some of its capabilities in the upcoming sections."
      ]
    },
    {
      "cell_type": "markdown",
      "id": "01bc8956",
      "metadata": {
        "id": "01bc8956"
      },
      "source": [
        "# `numpy` in Action: A Simple Calculation\n",
        "\n",
        "`numpy` can help you perform quick calculations.\n",
        "\n",
        "A simple array of numbers has been provided for you in the cell below.\n",
        "\n",
        "Find its average using `numpy`'s `mean` function.\n",
        "\n",
        "Pass the variable `numbers` to `np.mean` and run the cell."
      ]
    },
    {
      "cell_type": "code",
      "execution_count": 3,
      "id": "d0183d31",
      "metadata": {
        "colab": {
          "base_uri": "https://localhost:8080/"
        },
        "id": "d0183d31",
        "outputId": "452c49a3-6f66-48e0-d660-a4d2c8dee0c1"
      },
      "outputs": [
        {
          "output_type": "stream",
          "name": "stdout",
          "text": [
            "The average of the numbers is: 3.8\n"
          ]
        }
      ],
      "source": [
        "# Create an array of numbers\n",
        "numbers = np.array([1, 5, 3, 8, 2])\n",
        "\n",
        "# Calculate the average\n",
        "average = np.mean(numbers)\n",
        "\n",
        "# Display the result\n",
        "print(\"The average of the numbers is:\", average)\n"
      ]
    },
    {
      "cell_type": "markdown",
      "id": "acaf5312",
      "metadata": {
        "id": "acaf5312"
      },
      "source": [
        "As you can see, `numpy` makes it easy to perform numerical operations on arrays. You'll explore more of its capabilities later.\n",
        "\n",
        "But first, you'll learn how to get data into your notebook for analysis."
      ]
    },
    {
      "cell_type": "markdown",
      "id": "04f7d576",
      "metadata": {
        "id": "04f7d576"
      },
      "source": [
        "# CSV Files: Storing Data in a Tabular Format\n",
        "\n",
        "CSV (Comma-Separated Values) is a common file format for storing tabular data, like the kind you might see in a spreadsheet. It's a simple and widely supported format, making it a great choice for sharing and exchanging data.\n",
        "\n",
        "In a CSV file, each row represents a record or observation, and each column represents a specific attribute or feature. The values within each row are separated by commas (hence the name)."
      ]
    },
    {
      "cell_type": "markdown",
      "id": "5245ba5f",
      "metadata": {
        "id": "5245ba5f"
      },
      "source": [
        "# Reading CSV Files into Jupyter Notebooks\n",
        "\n",
        "One of the most powerful features of Jupyter Notebooks is their ability to seamlessly integrate with external data sources. CSV files, being a common and versatile format, are a prime example. We can use the `pandas` library to effortlessly read CSV files directly into our notebook, transforming raw data into a structured DataFrame that's ready for analysis.\n",
        "\n",
        "In the cell below, you'll read the `planets_with_moons_all.csv` file, which contains information about the planets in our solar system, including their diameters and the number of moons they have.\n",
        "\n",
        "The code to import `pandas` and to print the results of the csv have been provided for you. However, you need to add `planets_with_moons_all.csv` into `pd.read_csv` and then run the cell."
      ]
    },
    {
      "cell_type": "code",
      "source": [
        "from google.colab import drive\n",
        "drive.mount('/content/drive')"
      ],
      "metadata": {
        "colab": {
          "base_uri": "https://localhost:8080/"
        },
        "id": "aoK8yY89jrLs",
        "outputId": "361ddbb4-722d-4ced-d7fb-6c9440940b65"
      },
      "id": "aoK8yY89jrLs",
      "execution_count": 4,
      "outputs": [
        {
          "output_type": "stream",
          "name": "stdout",
          "text": [
            "Mounted at /content/drive\n"
          ]
        }
      ]
    },
    {
      "cell_type": "code",
      "source": [
        "file_path = \"drive/MyDrive/Maestria de Inteligencia Artificial Aplicada/Ciencia y Analitica de Datos/Data analysis and visualization con Python/Modulo 1/planets_with_moons_all.csv\""
      ],
      "metadata": {
        "id": "3WohHbkej7sc"
      },
      "id": "3WohHbkej7sc",
      "execution_count": 23,
      "outputs": []
    },
    {
      "cell_type": "code",
      "execution_count": 24,
      "id": "37069bba",
      "metadata": {
        "colab": {
          "base_uri": "https://localhost:8080/"
        },
        "id": "37069bba",
        "outputId": "4d1e368e-4f49-47bd-abd0-ebbd65557c3b"
      },
      "outputs": [
        {
          "output_type": "stream",
          "name": "stdout",
          "text": [
            "    Planet  Diameter (km)  Number of Moons\n",
            "0  Mercury           4879                0\n",
            "1    Venus          12104                0\n",
            "2    Earth          12756                1\n",
            "3     Mars           6792                2\n",
            "4  Jupiter         142984               79\n",
            "<class 'pandas.core.frame.DataFrame'>\n",
            "RangeIndex: 8 entries, 0 to 7\n",
            "Data columns (total 3 columns):\n",
            " #   Column           Non-Null Count  Dtype \n",
            "---  ------           --------------  ----- \n",
            " 0   Planet           8 non-null      object\n",
            " 1   Diameter (km)    8 non-null      int64 \n",
            " 2   Number of Moons  8 non-null      int64 \n",
            "dtypes: int64(2), object(1)\n",
            "memory usage: 324.0+ bytes\n",
            "None\n"
          ]
        }
      ],
      "source": [
        "import pandas as pd\n",
        "\n",
        "# Read the CSV file into a DataFrame\n",
        "planets_df = pd.read_csv(file_path)\n",
        "\n",
        "# Display the first 5 rows\n",
        "print(planets_df.head())\n",
        "\n",
        "# Print information about the DataFrame\n",
        "print(planets_df.info())"
      ]
    },
    {
      "cell_type": "markdown",
      "id": "883005e0",
      "metadata": {
        "id": "883005e0"
      },
      "source": [
        "# Combining CSV Data with `numpy` for Analysis\n",
        "\n",
        "Now that you've loaded data from a CSV file, you can also use external libraries like `numpy` to perform calculations -- all within the same Jupyter Notebook environment! It's a testament to the flexibility and power that Jupyter Notebooks offer for data analysis workflows.\n",
        "\n",
        "Code to calculate some statsitics about the planets in our solar system have already been provided for you.\n",
        "\n",
        "Go ahead and run it to see the results!"
      ]
    },
    {
      "cell_type": "code",
      "execution_count": 25,
      "id": "20c4d3da",
      "metadata": {
        "colab": {
          "base_uri": "https://localhost:8080/"
        },
        "id": "20c4d3da",
        "outputId": "cb83f2a4-8784-49aa-e1ff-858fc77ff380"
      },
      "outputs": [
        {
          "output_type": "stream",
          "name": "stdout",
          "text": [
            "\n",
            "Descriptive Statistics:\n",
            "Mean Diameter: 50087.12 km\n",
            "Median Diameter: 31142.0 km\n",
            "Mean Number of Moons: 25.75\n",
            "Median Number of Moons: 8.0\n",
            "\n"
          ]
        }
      ],
      "source": [
        "import numpy as np\n",
        "\n",
        "# Extract the 'Diameter (km)' and 'Number of Moons' columns as numpy arrays\n",
        "diameters = planets_df['Diameter (km)'].values\n",
        "num_moons = planets_df['Number of Moons'].values\n",
        "\n",
        "# Calculate the mean and median\n",
        "mean_diameter = np.mean(diameters)\n",
        "median_diameter = np.median(diameters)\n",
        "mean_moons = np.mean(num_moons)\n",
        "median_moons = np.median(num_moons)\n",
        "\n",
        "# Display the results\n",
        "print(\"\\nDescriptive Statistics:\")\n",
        "print(f\"Mean Diameter: {mean_diameter:.2f} km\")\n",
        "print(f\"Median Diameter: {median_diameter} km\")\n",
        "print(f\"Mean Number of Moons: {mean_moons:.2f}\")\n",
        "print(f\"Median Number of Moons: {median_moons}\\n\")"
      ]
    },
    {
      "cell_type": "markdown",
      "id": "d08f1c49",
      "metadata": {
        "id": "d08f1c49"
      },
      "source": [
        "# Visualization with Seaborn\n",
        "\n",
        "Jupyter Notebooks aren't just for calculations; they're also fantastic for creating visualizations that help us understand our data better. In the next cell, you'll use the `seaborn` library to create a simple scatter plot to visualize the relationship between the diameter of a planet and the number of moons it has.\n",
        "\n",
        "The necessary code to create this visualization has been provided for you.\n",
        "\n",
        "All you need to do is add `plt.show()` as the very last line under `# Display the plot` and run the cell!"
      ]
    },
    {
      "cell_type": "code",
      "execution_count": 26,
      "id": "1098bb4a",
      "metadata": {
        "colab": {
          "base_uri": "https://localhost:8080/",
          "height": 472
        },
        "id": "1098bb4a",
        "outputId": "69f4cea0-00cb-4c61-b38e-c760e2df5ac4"
      },
      "outputs": [
        {
          "output_type": "display_data",
          "data": {
            "text/plain": [
              "<Figure size 640x480 with 1 Axes>"
            ],
            "image/png": "[encoded data removed]"
          },
          "metadata": {}
        }
      ],
      "source": [
        "import seaborn as sns\n",
        "import matplotlib.pyplot as plt\n",
        "\n",
        "# Create the scatter plot\n",
        "sns.scatterplot(x='Diameter (km)', y='Number of Moons', data=planets_df)\n",
        "\n",
        "# Add labels and a title\n",
        "plt.title('Relationship between Diameter and Number of Moons')\n",
        "plt.xlabel('Diameter (km)')\n",
        "plt.ylabel('Number of Moons')\n",
        "\n",
        "# Display the plot\n",
        "plt.show()"
      ]
    },
    {
      "cell_type": "markdown",
      "id": "13c25f13-fb9e-488b-9b79-87ecc346b6f5",
      "metadata": {
        "id": "13c25f13-fb9e-488b-9b79-87ecc346b6f5"
      },
      "source": [
        "## Activity Recap: Introduction to Jupyter Notebooks\n",
        "\n",
        "Congratulations! You learned about the interactive nature of Jupyter Notebooks and how they combine code, text, and visualizations for data exploration and analysis. Here is a recap of some of the key ideas:\n",
        "\n",
        "* Code Cells: You executed your first Python code cell, printing the classic \"Hello, World!\" message.\n",
        "* Libraries and Packages: You understood the importance of libraries like numpy for extending Python's capabilities.\n",
        "* numpy: You imported numpy and used it to perform a simple calculation on an array of numbers.\n",
        "* CSV Files: You learned how to read CSV files into a DataFrame using pandas.\n",
        "* Data Analysis: You combined CSV data with numpy to calculate descriptive statistics.\n",
        "* Visualization: You used seaborn to create a scatter plot, visualizing the relationship between two variables in your data."
      ]
    }
  ],
  "metadata": {
    "kernelspec": {
      "display_name": "Python 3",
      "language": "python",
      "name": "python3"
    },
    "language_info": {
      "codemirror_mode": {
        "name": "ipython",
        "version": 3
      },
      "file_extension": ".py",
      "mimetype": "text/x-python",
      "name": "python",
      "nbconvert_exporter": "python",
      "pygments_lexer": "ipython3",
      "version": "3.8.8"
    },
    "colab": {
      "provenance": [],
      "include_colab_link": true
    }
  },
  "nbformat": 4,
  "nbformat_minor": 5
}